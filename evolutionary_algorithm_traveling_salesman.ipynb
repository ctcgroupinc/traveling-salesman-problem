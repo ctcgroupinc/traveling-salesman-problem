{
 "cells": [
  {
   "cell_type": "markdown",
   "metadata": {},
   "source": [
    "# Evolutionary Algorithms\n",
    "An example of evolutionary algorithms, trying to solve the traveling salesman problem. https://en.wikipedia.org/wiki/Travelling_salesman_problem"
   ]
  },
  {
   "cell_type": "code",
   "execution_count": null,
   "metadata": {},
   "outputs": [],
   "source": [
    "import numpy as np\n",
    "import matplotlib.pyplot as plt\n",
    "%matplotlib inline\n",
    "plt.style.use('seaborn')"
   ]
  },
  {
   "cell_type": "code",
   "execution_count": null,
   "metadata": {},
   "outputs": [],
   "source": [
    "import sys\n",
    "import matplotlib\n",
    "libraries = (('Matplotlib', matplotlib), ('Numpy', np))\n",
    "\n",
    "print(\"Python Version:\", sys.version, '\\n')\n",
    "for lib in libraries:\n",
    "    print('{0} Version: {1}'.format(lib[0], lib[1].__version__))"
   ]
  },
  {
   "cell_type": "code",
   "execution_count": null,
   "metadata": {},
   "outputs": [],
   "source": [
    "np.random.seed(42)\n",
    "\n",
    "def make_cities(number_of_cities = 5):\n",
    "    \"\"\"\n",
    "    Creates a series of cities by generating X, Y coordinates for\n",
    "    each city and storing it in a dictionary for later lookup.\n",
    "    \"\"\"\n",
    "    city_coordinates = {}\n",
    "\n",
    "    for ix in range(number_of_cities):\n",
    "        city_coordinates[ix] = list(np.random.uniform(-100,100,size=2))\n",
    "        \n",
    "    return city_coordinates\n",
    "\n",
    "city_coordinates = make_cities()\n",
    "print(city_coordinates)\n",
    "\n",
    "def plot_cities(city_coordinates, annotate=True):\n",
    "    \"\"\"\n",
    "    Makes a plot of all cities.\n",
    "    Input: city_coordinates; dictionary of all cities and their coordinates in (x,y) format\n",
    "    \"\"\"\n",
    "    names = []\n",
    "    x = []\n",
    "    y = []\n",
    "    plt.figure(dpi=250)\n",
    "    for ix, coord in city_coordinates.items():\n",
    "        names.append(ix)\n",
    "        x.append(coord[0])\n",
    "        y.append(coord[1])\n",
    "        if annotate:\n",
    "            plt.annotate(ix, xy=(coord[0], coord[1]), xytext=(20, -20),\n",
    "                        textcoords='offset points', ha='right', va='bottom',\n",
    "                        bbox=dict(boxstyle='round,pad=0.5', fc='w', alpha=0.5),\n",
    "                        arrowprops=dict(arrowstyle = '->', connectionstyle='arc3,rad=0'))\n",
    "    plt.scatter(x,y,c='r',marker='o')\n",
    "            \n",
    "plot_cities(city_coordinates)"
   ]
  },
  {
   "cell_type": "code",
   "execution_count": null,
   "metadata": {},
   "outputs": [],
   "source": [
    "print(list(city_coordinates.keys()))"
   ]
  },
  {
   "cell_type": "code",
   "execution_count": null,
   "metadata": {},
   "outputs": [],
   "source": [
    "from copy import copy\n",
    "def create_guess(cities):\n",
    "    \"\"\"\n",
    "    Creates a possible path between all cities, returning to the original.\n",
    "    Input: List of City IDs\n",
    "    \"\"\"\n",
    "    guess = copy(cities)\n",
    "    np.random.shuffle(guess)\n",
    "    guess.append(guess[0])\n",
    "    return list(guess)\n",
    "\n",
    "create_guess(list(city_coordinates.keys()))"
   ]
  },
  {
   "cell_type": "code",
   "execution_count": null,
   "metadata": {},
   "outputs": [],
   "source": [
    "def plot_guess(city_coordinates, guess, guess_in_title=True):\n",
    "    \"\"\"\n",
    "    Takes the coordinates of the cities and the guessed path and\n",
    "    makes a plot connecting the cities in the guessed order\n",
    "    Input:\n",
    "    city_coordinate: dictionary of city id, (x,y)\n",
    "    guess: list of ids in order\n",
    "    \"\"\"\n",
    "    plot_cities(city_coordinates)\n",
    "    for ix, current_city in enumerate(guess[:-1]):\n",
    "        x = [city_coordinates[guess[ix]][0],city_coordinates[guess[ix+1]][0]]\n",
    "        y = [city_coordinates[guess[ix]][1],city_coordinates[guess[ix+1]][1]]\n",
    "        plt.plot(x,y,'c--',lw=1)\n",
    "    plt.scatter(city_coordinates[guess[0]][0],city_coordinates[guess[0]][1], marker='x', c='b')   \n",
    "    if guess_in_title:\n",
    "        plt.title(\"Current Guess: [%s]\"%(','.join([str(x) for x in guess])))\n",
    "    else:\n",
    "        print(\"Current Guess: [%s]\"%(','.join([str(x) for x in guess])))\n",
    "    \n",
    "path = create_guess(list(city_coordinates.keys()))\n",
    "print(path)\n",
    "plot_guess(city_coordinates, path)"
   ]
  },
  {
   "cell_type": "code",
   "execution_count": null,
   "metadata": {},
   "outputs": [],
   "source": [
    "def create_generation(cities, population=100):\n",
    "    \"\"\"\n",
    "    Makes a list of guessed city orders given a list of city IDs.\n",
    "    Input:\n",
    "    cities: list of city ids\n",
    "    population: how many guesses to make\n",
    "    \"\"\"\n",
    "    generation = [create_guess(cities) for _ in range(population)]\n",
    "    return generation\n",
    "\n",
    "test_generation = create_generation(list(city_coordinates.keys()), population=10)\n",
    "print(test_generation)"
   ]
  },
  {
   "cell_type": "code",
   "execution_count": null,
   "metadata": {},
   "outputs": [],
   "source": [
    "print(city_coordinates)"
   ]
  },
  {
   "cell_type": "code",
   "execution_count": null,
   "metadata": {},
   "outputs": [],
   "source": [
    "def distance_between_cities(city1_id, city2_id):\n",
    "    \"\"\"\n",
    "    Given two cities, this calculates this distance between them\n",
    "    \"\"\"\n",
    "    c1 = city_coordinates[city1_id]\n",
    "    c2 = city_coordinates[city2_id]\n",
    "    distance = np.sqrt((c1[0]-c2[0])**2 + (c1[1]-c2[1])**2)\n",
    "    return distance\n",
    "\n",
    "def fitness_score(guess):\n",
    "    \"\"\"\n",
    "    Loops through the cities in the guesses order and calculates\n",
    "    how much distance the path would take to complete a loop.\n",
    "    Lower is better.\n",
    "    \"\"\"\n",
    "    score = 0\n",
    "    for ix, city_id in enumerate(guess[:-1]):\n",
    "        score += distance_between_cities(city_id, guess[ix+1])\n",
    "    return score\n",
    "\n",
    "def check_fitness(guesses):\n",
    "    \"\"\"\n",
    "    Goes through every guess and calculates the fitness score. \n",
    "    Returns a list of tuples: (guess, fitness_score)\n",
    "    \"\"\"\n",
    "    fitness_indicator = []\n",
    "    for guess in guesses:\n",
    "        fitness_indicator.append((guess, fitness_score(guess)))\n",
    "    return fitness_indicator\n",
    "\n",
    "print(check_fitness(test_generation))"
   ]
  },
  {
   "cell_type": "markdown",
   "metadata": {},
   "source": [
    "Now we need to setup a breeding program. So what does that entail? We can't take random cities from each parent, we might get the same city in there twice. So instead we'll take a random set of the cities from parent 1 and hold them in place. Then well fill in with cities from parent 2, going left to right and making sure no duplicates occur."
   ]
  },
  {
   "cell_type": "code",
   "execution_count": null,
   "metadata": {},
   "outputs": [],
   "source": [
    "def get_breeders_from_generation(guesses, take_best_N=10, take_random_N=5, verbose=False, mutation_rate=0.1):\n",
    "    \"\"\"\n",
    "    This sets up the breeding group for the next generation. You have\n",
    "    to be very careful how many breeders you take, otherwise your\n",
    "    population can explode. These two, plus the \"number of children per couple\"\n",
    "    in the make_children function must be tuned to avoid exponential growth or decline!\n",
    "    \"\"\"\n",
    "    # First, get the top guesses from last time\n",
    "    fit_scores = check_fitness(guesses)\n",
    "    sorted_guesses = sorted(fit_scores, key=lambda x: x[1]) # sorts so lowest is first, which we want\n",
    "    new_generation = [x[0] for x in sorted_guesses[:take_best_N]]\n",
    "    best_guess = new_generation[0]\n",
    "    \n",
    "    if verbose:\n",
    "        # If we want to see what the best current guess is!\n",
    "        print(best_guess)\n",
    "    \n",
    "    # Second, get some random ones for genetic diversity\n",
    "    for _ in range(take_random_N):\n",
    "        ix = np.random.randint(len(guesses))\n",
    "        new_generation.append(guesses[ix])\n",
    "        \n",
    "    # No mutations here since the order really matters.\n",
    "    # If we wanted to, we could add a \"swapping\" mutation,\n",
    "    # but in practice it doesn't seem to be necessary\n",
    "    \n",
    "    np.random.shuffle(new_generation)\n",
    "    return new_generation, best_guess\n",
    "\n",
    "def make_child(parent1, parent2):\n",
    "    \"\"\" \n",
    "    Take some values from parent 1 and hold them in place, then merge in values\n",
    "    from parent2, filling in from left to right with cities that aren't already in \n",
    "    the child. \n",
    "    \"\"\"\n",
    "    list_of_ids_for_parent1 = list(np.random.choice(parent1, replace=False, size=len(parent1)//2))\n",
    "    child = [-99 for _ in parent1]\n",
    "    \n",
    "    for ix in list_of_ids_for_parent1:\n",
    "        child[ix] = parent1[ix]\n",
    "    for ix, gene in enumerate(child):\n",
    "        if gene == -99:\n",
    "            for gene2 in parent2:\n",
    "                if gene2 not in child:\n",
    "                    child[ix] = gene2\n",
    "                    break\n",
    "    child[-1] = child[0]\n",
    "    return child\n",
    "\n",
    "def make_children(old_generation, children_per_couple=1):\n",
    "    \"\"\"\n",
    "    Pairs parents together, and makes children for each pair. \n",
    "    If there are an odd number of parent possibilities, one \n",
    "    will be left out. \n",
    "    \n",
    "    Pairing happens by pairing the first and last entries. \n",
    "    Then the second and second from last, and so on.\n",
    "    \"\"\"\n",
    "    mid_point = len(old_generation)//2\n",
    "    next_generation = [] \n",
    "    \n",
    "    for ix, parent in enumerate(old_generation[:mid_point]):\n",
    "        for _ in range(children_per_couple):\n",
    "            next_generation.append(make_child(parent, old_generation[-ix-1]))\n",
    "    return next_generation"
   ]
  },
  {
   "cell_type": "code",
   "execution_count": null,
   "metadata": {},
   "outputs": [],
   "source": [
    "make_child([0,1,2,3,4,5],[6,7,8,9,10,11])"
   ]
  },
  {
   "cell_type": "markdown",
   "metadata": {},
   "source": [
    "Let's look at a test cycle with our test_generation."
   ]
  },
  {
   "cell_type": "code",
   "execution_count": null,
   "metadata": {},
   "outputs": [],
   "source": [
    "breeders, _ = get_breeders_from_generation(test_generation)\n",
    "print(breeders)"
   ]
  },
  {
   "cell_type": "code",
   "execution_count": null,
   "metadata": {},
   "outputs": [],
   "source": [
    "print(make_children(breeders, children_per_couple=2))"
   ]
  },
  {
   "cell_type": "markdown",
   "metadata": {},
   "source": [
    "Sweet, it looks like our parents features are being carried on, but aren't being directly copies. So all is going how we hoped for now. Now let's try actually solving the problem by letting many generations happen and turning up how many guesses there are in the initial generation."
   ]
  },
  {
   "cell_type": "code",
   "execution_count": null,
   "metadata": {},
   "outputs": [],
   "source": [
    "current_generation = create_generation(list(city_coordinates.keys()),population=500)\n",
    "print_every_n_generations = 5\n",
    "\n",
    "for i in range(100):\n",
    "    if not i % print_every_n_generations:\n",
    "        print(\"Generation %i: \"%i + str(len(current_generation)))\n",
    "        is_verbose = True\n",
    "    else:\n",
    "        is_verbose = False\n",
    "    breeders, best_guess = get_breeders_from_generation(current_generation, \n",
    "                                                        take_best_N=250, take_random_N=100, \n",
    "                                                        verbose=is_verbose)\n",
    "    current_generation = make_children(breeders, children_per_couple=3)"
   ]
  },
  {
   "cell_type": "markdown",
   "metadata": {},
   "source": [
    "Let's put this into a function so we can repeat it with different sets of stuff."
   ]
  },
  {
   "cell_type": "code",
   "execution_count": null,
   "metadata": {},
   "outputs": [],
   "source": [
    "def evolve_to_solve(current_generation, max_generations, take_best_N, take_random_N,\n",
    "                    mutation_rate, children_per_couple, print_every_n_generations, verbose=False):\n",
    "    \"\"\"\n",
    "    Takes in a generation of guesses then evolves them over time using our breeding rules.\n",
    "    Continue this for \"max_generations\" times.\n",
    "    Inputs:\n",
    "    current_generation: The first generation of guesses\n",
    "    max_generations: how many generations to complete\n",
    "    take_best_N: how many of the top performers get selected to breed\n",
    "    take_random_N: how many random guesses get brought in to keep genetic diversity\n",
    "    mutation_rate: How often to mutate (currently unused)\n",
    "    children_per_couple: how many children per breeding pair\n",
    "    print_every_n_geneartions: how often to print in verbose mode\n",
    "    verbose: Show printouts of progress\n",
    "    Returns:\n",
    "    fitness_tracking: a list of the fitness score at each generations\n",
    "    best_guess: the best_guess at the end of evolution\n",
    "    \"\"\"\n",
    "    fitness_tracking = []\n",
    "    for i in range(max_generations):\n",
    "        if verbose and not i % print_every_n_generations and i > 0:\n",
    "            print(\"Generation %i: \"%i + str(len(current_generation)))\n",
    "            print(\"Current Best Score: \", fitness_tracking[-1])\n",
    "            is_verbose = True\n",
    "        else:\n",
    "            is_verbose = False\n",
    "        breeders, best_guess = get_breeders_from_generation(current_generation, \n",
    "                                                            take_best_N=take_best_N, take_random_N=take_random_N, \n",
    "                                                            verbose=is_verbose, mutation_rate=mutation_rate)\n",
    "        fitness_tracking.append(fitness_score(best_guess))\n",
    "        current_generation = make_children(breeders, children_per_couple=children_per_couple)\n",
    "    \n",
    "    return fitness_tracking, best_guess\n",
    "\n",
    "current_generation = create_generation([0,1,2,3,4],population=500)\n",
    "fitness_tracking, best_guess = evolve_to_solve(current_generation, 100, 150, 70, 0.5, 3, 5, verbose=True)"
   ]
  },
  {
   "cell_type": "code",
   "execution_count": null,
   "metadata": {},
   "outputs": [],
   "source": [
    "plot_guess(city_coordinates, best_guess)"
   ]
  },
  {
   "cell_type": "markdown",
   "metadata": {},
   "source": [
    "Looks like our fitness plot will be really boring since it got the answer REALLY fast. That's because this is a simple problem with only 5 cities. Let's check anyway."
   ]
  },
  {
   "cell_type": "code",
   "execution_count": null,
   "metadata": {},
   "outputs": [],
   "source": [
    "def make_fitness_tracking_plot(fitness_tracking):\n",
    "    \"\"\"\n",
    "    Given a list of fitness scores, plot it versus the generation number\n",
    "    \"\"\"\n",
    "    plt.figure(dpi=150)\n",
    "    plt.plot(range(len(fitness_tracking)), fitness_tracking)\n",
    "    plt.ylabel(\"Fitness Score\")\n",
    "    plt.xlabel(\"Generation\")\n",
    "    plt.title(\"Fitness Evolution\");\n",
    "\n",
    "make_fitness_tracking_plot(fitness_tracking)"
   ]
  },
  {
   "cell_type": "markdown",
   "metadata": {},
   "source": [
    "# Now let's try it with a bigger more challenging problem\n",
    "\n",
    "In the above problem there were only 5! permutations allowed. That's only 120 unique combinations and is pretty easy to solve. However, if we have 20 cities... there are 20! = 2.432902e+18 permutations possible. That's pretty much out of the realm of possibility for brute force. So let's see if we can get a decent answer in a usable amount of time. This should also let us see more interesting behavior in our fitness function."
   ]
  },
  {
   "cell_type": "code",
   "execution_count": null,
   "metadata": {},
   "outputs": [],
   "source": [
    "city_coordinates = make_cities(20)\n",
    "plot_cities(city_coordinates)"
   ]
  },
  {
   "cell_type": "code",
   "execution_count": null,
   "metadata": {},
   "outputs": [],
   "source": [
    "current_generation = create_generation(list(city_coordinates.keys()),population=500)\n",
    "fitness_tracking, best_guess = evolve_to_solve(current_generation, 150, 150, 70, 0.5, 3, 5, verbose=True)"
   ]
  },
  {
   "cell_type": "code",
   "execution_count": null,
   "metadata": {},
   "outputs": [],
   "source": [
    "plot_guess(city_coordinates, best_guess)"
   ]
  },
  {
   "cell_type": "code",
   "execution_count": null,
   "metadata": {},
   "outputs": [],
   "source": [
    "make_fitness_tracking_plot(fitness_tracking)"
   ]
  },
  {
   "cell_type": "markdown",
   "metadata": {},
   "source": [
    "Awesome! It found a really good looking path that's pretty intuitive. It also converged REALLY quickly. So what if we have 50 cities? That's 3.0414e+64 permutations. That's an unbelievably large number of permutations. We'd never be able to solve that with a \"normal\" approach. Let's try ours."
   ]
  },
  {
   "cell_type": "code",
   "execution_count": null,
   "metadata": {},
   "outputs": [],
   "source": [
    "city_coordinates = make_cities(50)\n",
    "plot_cities(city_coordinates)"
   ]
  },
  {
   "cell_type": "code",
   "execution_count": null,
   "metadata": {},
   "outputs": [],
   "source": [
    "current_generation = create_generation(list(city_coordinates.keys()),population=500)\n",
    "fitness_tracking, best_guess = evolve_to_solve(current_generation, 300, 150, 70, 0.5, 3, 5, verbose=True)"
   ]
  },
  {
   "cell_type": "code",
   "execution_count": null,
   "metadata": {},
   "outputs": [],
   "source": [
    "plot_guess(city_coordinates, best_guess, guess_in_title=False)"
   ]
  },
  {
   "cell_type": "code",
   "execution_count": null,
   "metadata": {},
   "outputs": [],
   "source": [
    "make_fitness_tracking_plot(fitness_tracking)"
   ]
  },
  {
   "cell_type": "markdown",
   "metadata": {},
   "source": [
    "Look at that awesome path! When you just look at the cities with no path, it looks like a mess. With this algorithm in-place, now we can see an easy path and it looks so natural. On top of that, despite there being 10^64 permutations... this ran in just seconds and solved it for us. Now, this isn't the ABSOLUTE best answer, it's an approximation. It's possible that we're only close to the best answer. But that's a small price to pay for being able to answer the question so quickly."
   ]
  },
  {
   "cell_type": "code",
   "execution_count": null,
   "metadata": {},
   "outputs": [],
   "source": []
  }
 ],
 "metadata": {
  "kernelspec": {
   "display_name": "Python 2",
   "language": "python",
   "name": "python2"
  },
  "language_info": {
   "codemirror_mode": {
    "name": "ipython",
    "version": 2
   },
   "file_extension": ".py",
   "mimetype": "text/x-python",
   "name": "python",
   "nbconvert_exporter": "python",
   "pygments_lexer": "ipython2",
   "version": "2.7.15"
  }
 },
 "nbformat": 4,
 "nbformat_minor": 2
}
